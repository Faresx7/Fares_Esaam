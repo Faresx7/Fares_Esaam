{
 "cells": [
  {
   "cell_type": "markdown",
   "id": "5e34704e",
   "metadata": {},
   "source": [
    "Opening file"
   ]
  },
  {
   "cell_type": "code",
   "execution_count": 22,
   "id": "501a614f",
   "metadata": {},
   "outputs": [],
   "source": [
    "import pandas as pd\n",
    "\n",
    "path='C:/Users/COMPUMARTS/Downloads/data_cleaning/Cafe data cleaning/cafe_sales.csv'\n",
    "df=pd.read_csv(path)\n",
    "# df.head(25)\n"
   ]
  },
  {
   "cell_type": "markdown",
   "id": "b1376c03",
   "metadata": {},
   "source": [
    "Replace spaces in columns to avoid any errors"
   ]
  },
  {
   "cell_type": "code",
   "execution_count": 23,
   "id": "db81e673",
   "metadata": {},
   "outputs": [
    {
     "data": {
      "text/plain": [
       "Index(['Transaction_ID', 'Item', 'Quantity', 'Price_Per_Unit', 'Total_Spent',\n",
       "       'Payment_Method', 'Location', 'Transaction_Date'],\n",
       "      dtype='object')"
      ]
     },
     "execution_count": 23,
     "metadata": {},
     "output_type": "execute_result"
    }
   ],
   "source": [
    "df.columns = df.columns.str.replace(' ', '_')\n",
    "df.columns"
   ]
  },
  {
   "cell_type": "markdown",
   "id": "0a9aebf5",
   "metadata": {},
   "source": [
    "Drop unnecessary columns or columns that hard to fill its null values"
   ]
  },
  {
   "cell_type": "code",
   "execution_count": 24,
   "id": "fd48c2fe",
   "metadata": {},
   "outputs": [
    {
     "data": {
      "text/plain": [
       "Transaction_ID       0\n",
       "Item               333\n",
       "Quantity           138\n",
       "Price_Per_Unit     179\n",
       "Total_Spent        173\n",
       "Payment_Method    2579\n",
       "Location          3265\n",
       "dtype: int64"
      ]
     },
     "execution_count": 24,
     "metadata": {},
     "output_type": "execute_result"
    }
   ],
   "source": [
    "df=df.drop(columns='Transaction_Date')\n",
    "df.isna().sum()"
   ]
  },
  {
   "cell_type": "markdown",
   "id": "7d859ba6",
   "metadata": {},
   "source": [
    "Now standardizing all null values"
   ]
  },
  {
   "cell_type": "code",
   "execution_count": null,
   "id": "a7f754af",
   "metadata": {},
   "outputs": [
    {
     "data": {
      "text/html": [
       "<div>\n",
       "<style scoped>\n",
       "    .dataframe tbody tr th:only-of-type {\n",
       "        vertical-align: middle;\n",
       "    }\n",
       "\n",
       "    .dataframe tbody tr th {\n",
       "        vertical-align: top;\n",
       "    }\n",
       "\n",
       "    .dataframe thead th {\n",
       "        text-align: right;\n",
       "    }\n",
       "</style>\n",
       "<table border=\"1\" class=\"dataframe\">\n",
       "  <thead>\n",
       "    <tr style=\"text-align: right;\">\n",
       "      <th></th>\n",
       "      <th>Transaction_ID</th>\n",
       "      <th>Item</th>\n",
       "      <th>Quantity</th>\n",
       "      <th>Price_Per_Unit</th>\n",
       "      <th>Total_Spent</th>\n",
       "      <th>Payment_Method</th>\n",
       "      <th>Location</th>\n",
       "    </tr>\n",
       "  </thead>\n",
       "  <tbody>\n",
       "    <tr>\n",
       "      <th>0</th>\n",
       "      <td>TXN_1961373</td>\n",
       "      <td>Coffee</td>\n",
       "      <td>2</td>\n",
       "      <td>2.0</td>\n",
       "      <td>4.0</td>\n",
       "      <td>Credit Card</td>\n",
       "      <td>Takeaway</td>\n",
       "    </tr>\n",
       "    <tr>\n",
       "      <th>1</th>\n",
       "      <td>TXN_4977031</td>\n",
       "      <td>Cake</td>\n",
       "      <td>4</td>\n",
       "      <td>3.0</td>\n",
       "      <td>12.0</td>\n",
       "      <td>Cash</td>\n",
       "      <td>In-store</td>\n",
       "    </tr>\n",
       "    <tr>\n",
       "      <th>2</th>\n",
       "      <td>TXN_4271903</td>\n",
       "      <td>Cookie</td>\n",
       "      <td>4</td>\n",
       "      <td>1.0</td>\n",
       "      <td>&lt;NA&gt;</td>\n",
       "      <td>Credit Card</td>\n",
       "      <td>In-store</td>\n",
       "    </tr>\n",
       "    <tr>\n",
       "      <th>3</th>\n",
       "      <td>TXN_7034554</td>\n",
       "      <td>Salad</td>\n",
       "      <td>2</td>\n",
       "      <td>5.0</td>\n",
       "      <td>10.0</td>\n",
       "      <td>&lt;NA&gt;</td>\n",
       "      <td>&lt;NA&gt;</td>\n",
       "    </tr>\n",
       "    <tr>\n",
       "      <th>4</th>\n",
       "      <td>TXN_3160411</td>\n",
       "      <td>Coffee</td>\n",
       "      <td>2</td>\n",
       "      <td>2.0</td>\n",
       "      <td>4.0</td>\n",
       "      <td>Digital Wallet</td>\n",
       "      <td>In-store</td>\n",
       "    </tr>\n",
       "  </tbody>\n",
       "</table>\n",
       "</div>"
      ],
      "text/plain": [
       "  Transaction_ID    Item Quantity Price_Per_Unit Total_Spent  Payment_Method  \\\n",
       "0    TXN_1961373  Coffee        2            2.0         4.0     Credit Card   \n",
       "1    TXN_4977031    Cake        4            3.0        12.0            Cash   \n",
       "2    TXN_4271903  Cookie        4            1.0        <NA>     Credit Card   \n",
       "3    TXN_7034554   Salad        2            5.0        10.0            <NA>   \n",
       "4    TXN_3160411  Coffee        2            2.0         4.0  Digital Wallet   \n",
       "\n",
       "   Location  \n",
       "0  Takeaway  \n",
       "1  In-store  \n",
       "2  In-store  \n",
       "3      <NA>  \n",
       "4  In-store  "
      ]
     },
     "execution_count": 25,
     "metadata": {},
     "output_type": "execute_result"
    }
   ],
   "source": [
    "df = df.replace({'UNKNOWN':pd.NA, 'NaN':pd.NA , 'ERROR':pd.NA})\n",
    "df.head()"
   ]
  },
  {
   "cell_type": "markdown",
   "id": "bf5e1a75",
   "metadata": {},
   "source": [
    "Fill the Quantity null values\n",
    "    by dividing the Total_Spent in Price_Per_Unit\n",
    "    to insure getting the right values"
   ]
  },
  {
   "cell_type": "code",
   "execution_count": 26,
   "id": "2de94948",
   "metadata": {},
   "outputs": [],
   "source": [
    " #! we used pd.to_numeric instead of df.astype to avoid the problems that may happen cause of null values\n",
    "df['Total_Spent'] = pd.to_numeric(df['Total_Spent'], errors='coerce')\n",
    "df['Price_Per_Unit'] = pd.to_numeric(df['Price_Per_Unit'], errors='coerce')\n",
    "\n",
    "\n",
    "df['Quantity'] = df.apply(# i here is a row in the data frame\n",
    "    lambda i: i['Total_Spent']/i['Price_Per_Unit'] if pd.isna(i['Quantity']) else i['Quantity'],axis=1)\n",
    "# df.head()"
   ]
  },
  {
   "cell_type": "markdown",
   "id": "58bf3176",
   "metadata": {},
   "source": [
    "Here we try to fill up Total_Spent column after we filled quantity column"
   ]
  },
  {
   "cell_type": "code",
   "execution_count": 27,
   "id": "6719c261",
   "metadata": {},
   "outputs": [],
   "source": [
    "df['Quantity'] = df['Quantity'].astype('float')\n",
    "df['Total_Spent']=df.apply(\n",
    "    lambda i:i['Quantity']*i['Price_Per_Unit'] if pd.isna(i['Total_Spent']) else i['Total_Spent'],axis=1)\n",
    "# df.tail(60)"
   ]
  },
  {
   "cell_type": "markdown",
   "id": "56ab1efb",
   "metadata": {},
   "source": [
    "Now we will try to fill Price_per_Unit after we filled Quantity and Total_Spent columns"
   ]
  },
  {
   "cell_type": "code",
   "execution_count": 28,
   "id": "bef529d1",
   "metadata": {},
   "outputs": [],
   "source": [
    "df['Price_Per_Unit'] = df.apply(\n",
    "\tlambda row: row['Total_Spent']/row['Quantity'] if pd.isna(row['Price_Per_Unit']) else row['Price_Per_Unit'],\n",
    "\taxis=1\n",
    ")\n",
    "# df.tail(60)"
   ]
  },
  {
   "cell_type": "code",
   "execution_count": 29,
   "id": "95250c17",
   "metadata": {},
   "outputs": [
    {
     "data": {
      "text/plain": [
       "Transaction_ID       0\n",
       "Item               969\n",
       "Quantity            38\n",
       "Price_Per_Unit      38\n",
       "Total_Spent         40\n",
       "Payment_Method    3178\n",
       "Location          3961\n",
       "dtype: int64"
      ]
     },
     "execution_count": 29,
     "metadata": {},
     "output_type": "execute_result"
    }
   ],
   "source": [
    "df.isna().sum()"
   ]
  },
  {
   "cell_type": "markdown",
   "id": "1db61179",
   "metadata": {},
   "source": [
    "To Check why some values are null"
   ]
  },
  {
   "cell_type": "code",
   "execution_count": 30,
   "id": "65284c4c",
   "metadata": {},
   "outputs": [
    {
     "name": "stdout",
     "output_type": "stream",
     "text": [
      "Transaction_ID       0\n",
      "Item               969\n",
      "Quantity            38\n",
      "Price_Per_Unit      38\n",
      "Total_Spent         40\n",
      "Payment_Method    3178\n",
      "Location          3961\n",
      "dtype: int64\n",
      "Price_Per_Unit    NaN\n",
      "Quantity          3.0\n",
      "Total_Spent       NaN\n",
      "Name: 65, dtype: object\n",
      "Price_Per_Unit     NaN\n",
      "Quantity           NaN\n",
      "Total_Spent       12.0\n",
      "Name: 629, dtype: object\n",
      "Price_Per_Unit     NaN\n",
      "Quantity           NaN\n",
      "Total_Spent       20.0\n",
      "Name: 912, dtype: object\n",
      "Price_Per_Unit    NaN\n",
      "Quantity          NaN\n",
      "Total_Spent       3.0\n",
      "Name: 1008, dtype: object\n",
      "Price_Per_Unit    NaN\n",
      "Quantity          NaN\n",
      "Total_Spent       6.0\n",
      "Name: 1436, dtype: object\n",
      "Price_Per_Unit     NaN\n",
      "Quantity           NaN\n",
      "Total_Spent       16.0\n",
      "Name: 1482, dtype: object\n",
      "Price_Per_Unit    NaN\n",
      "Quantity          2.0\n",
      "Total_Spent       NaN\n",
      "Name: 1674, dtype: object\n",
      "Price_Per_Unit    NaN\n",
      "Quantity          4.0\n",
      "Total_Spent       NaN\n",
      "Name: 1761, dtype: object\n",
      "Price_Per_Unit    NaN\n",
      "Quantity          2.0\n",
      "Total_Spent       NaN\n",
      "Name: 2229, dtype: object\n",
      "Price_Per_Unit    NaN\n",
      "Quantity          4.0\n",
      "Total_Spent       NaN\n",
      "Name: 2289, dtype: object\n",
      "Price_Per_Unit    NaN\n",
      "Quantity          NaN\n",
      "Total_Spent       5.0\n",
      "Name: 2330, dtype: object\n",
      "Price_Per_Unit    NaN\n",
      "Quantity          3.0\n",
      "Total_Spent       NaN\n",
      "Name: 2585, dtype: object\n",
      "Price_Per_Unit    NaN\n",
      "Quantity          3.0\n",
      "Total_Spent       NaN\n",
      "Name: 3162, dtype: object\n",
      "Price_Per_Unit    NaN\n",
      "Quantity          1.0\n",
      "Total_Spent       NaN\n",
      "Name: 3598, dtype: object\n",
      "Price_Per_Unit    NaN\n",
      "Quantity          NaN\n",
      "Total_Spent       1.0\n",
      "Name: 3635, dtype: object\n",
      "Price_Per_Unit    NaN\n",
      "Quantity          2.0\n",
      "Total_Spent       NaN\n",
      "Name: 3673, dtype: object\n",
      "Price_Per_Unit     NaN\n",
      "Quantity           NaN\n",
      "Total_Spent       25.0\n",
      "Name: 3779, dtype: object\n",
      "Price_Per_Unit    NaN\n",
      "Quantity          2.0\n",
      "Total_Spent       NaN\n",
      "Name: 4021, dtype: object\n",
      "Price_Per_Unit    NaN\n",
      "Quantity          2.0\n",
      "Total_Spent       NaN\n",
      "Name: 4152, dtype: object\n",
      "Price_Per_Unit    NaN\n",
      "Quantity          NaN\n",
      "Total_Spent       6.0\n",
      "Name: 5639, dtype: object\n",
      "Price_Per_Unit    NaN\n",
      "Quantity          NaN\n",
      "Total_Spent       8.0\n",
      "Name: 5845, dtype: object\n",
      "Price_Per_Unit    NaN\n",
      "Quantity          NaN\n",
      "Total_Spent       2.0\n",
      "Name: 6225, dtype: object\n",
      "Price_Per_Unit    NaN\n",
      "Quantity          NaN\n",
      "Total_Spent       1.0\n",
      "Name: 6661, dtype: object\n",
      "Price_Per_Unit    NaN\n",
      "Quantity          NaN\n",
      "Total_Spent       4.0\n",
      "Name: 6674, dtype: object\n",
      "Price_Per_Unit    NaN\n",
      "Quantity          5.0\n",
      "Total_Spent       NaN\n",
      "Name: 7035, dtype: object\n",
      "Price_Per_Unit    NaN\n",
      "Quantity          2.0\n",
      "Total_Spent       NaN\n",
      "Name: 7230, dtype: object\n",
      "Price_Per_Unit    NaN\n",
      "Quantity          5.0\n",
      "Total_Spent       NaN\n",
      "Name: 7244, dtype: object\n",
      "Price_Per_Unit    NaN\n",
      "Quantity          5.0\n",
      "Total_Spent       NaN\n",
      "Name: 7568, dtype: object\n",
      "Price_Per_Unit    NaN\n",
      "Quantity          NaN\n",
      "Total_Spent       9.0\n",
      "Name: 7597, dtype: object\n",
      "Price_Per_Unit    NaN\n",
      "Quantity          5.0\n",
      "Total_Spent       NaN\n",
      "Name: 7686, dtype: object\n",
      "Price_Per_Unit    NaN\n",
      "Quantity          3.0\n",
      "Total_Spent       NaN\n",
      "Name: 8128, dtype: object\n",
      "Price_Per_Unit    NaN\n",
      "Quantity          3.0\n",
      "Total_Spent       NaN\n",
      "Name: 8497, dtype: object\n",
      "Price_Per_Unit    NaN\n",
      "Quantity          NaN\n",
      "Total_Spent       3.0\n",
      "Name: 8669, dtype: object\n",
      "Price_Per_Unit    NaN\n",
      "Quantity          NaN\n",
      "Total_Spent       7.5\n",
      "Name: 8975, dtype: object\n",
      "Price_Per_Unit    NaN\n",
      "Quantity          1.0\n",
      "Total_Spent       NaN\n",
      "Name: 9212, dtype: object\n",
      "Price_Per_Unit    NaN\n",
      "Quantity          NaN\n",
      "Total_Spent       3.0\n",
      "Name: 9464, dtype: object\n",
      "Price_Per_Unit     NaN\n",
      "Quantity           NaN\n",
      "Total_Spent       20.0\n",
      "Name: 9819, dtype: object\n",
      "Price_Per_Unit    NaN\n",
      "Quantity          2.0\n",
      "Total_Spent       NaN\n",
      "Name: 9893, dtype: object\n"
     ]
    }
   ],
   "source": [
    "null_index = df[df['Price_Per_Unit'].isna()].index\n",
    "print(df.isnull().sum())\n",
    "for i in null_index:\n",
    "    print(df.loc[i, ['Price_Per_Unit','Quantity','Total_Spent']])\n"
   ]
  },
  {
   "cell_type": "markdown",
   "id": "c36bcae1",
   "metadata": {},
   "source": [
    "To delete the null values that we can't find it"
   ]
  },
  {
   "cell_type": "code",
   "execution_count": 32,
   "id": "1fe7c8bb",
   "metadata": {},
   "outputs": [
    {
     "data": {
      "text/plain": [
       "(9942, 7)"
      ]
     },
     "execution_count": 32,
     "metadata": {},
     "output_type": "execute_result"
    }
   ],
   "source": [
    "df=df.dropna(subset=['Quantity'])\n",
    "df=df.dropna(subset=['Price_Per_Unit'])\n",
    "df=df.dropna(subset=['Total_Spent'])\n",
    "# print(df.isnull().sum())\n",
    "df.shape"
   ]
  },
  {
   "cell_type": "markdown",
   "id": "e14bb5a5",
   "metadata": {},
   "source": [
    "Now replacing the null values in Payment_Method and Location with mode"
   ]
  },
  {
   "cell_type": "code",
   "execution_count": 33,
   "id": "031e16fd",
   "metadata": {},
   "outputs": [
    {
     "name": "stdout",
     "output_type": "stream",
     "text": [
      "Transaction_ID      0\n",
      "Item              963\n",
      "Quantity            0\n",
      "Price_Per_Unit      0\n",
      "Total_Spent         0\n",
      "Payment_Method      0\n",
      "Location            0\n",
      "dtype: int64\n"
     ]
    },
    {
     "name": "stderr",
     "output_type": "stream",
     "text": [
      "C:\\Users\\COMPUMARTS\\AppData\\Local\\Temp\\ipykernel_14912\\3132539126.py:2: FutureWarning: A value is trying to be set on a copy of a DataFrame or Series through chained assignment using an inplace method.\n",
      "The behavior will change in pandas 3.0. This inplace method will never work because the intermediate object on which we are setting values always behaves as a copy.\n",
      "\n",
      "For example, when doing 'df[col].method(value, inplace=True)', try using 'df.method({col: value}, inplace=True)' or df[col] = df[col].method(value) instead, to perform the operation inplace on the original object.\n",
      "\n",
      "\n",
      "  df['Payment_Method'].fillna(P_mode,inplace=True)\n",
      "C:\\Users\\COMPUMARTS\\AppData\\Local\\Temp\\ipykernel_14912\\3132539126.py:5: FutureWarning: A value is trying to be set on a copy of a DataFrame or Series through chained assignment using an inplace method.\n",
      "The behavior will change in pandas 3.0. This inplace method will never work because the intermediate object on which we are setting values always behaves as a copy.\n",
      "\n",
      "For example, when doing 'df[col].method(value, inplace=True)', try using 'df.method({col: value}, inplace=True)' or df[col] = df[col].method(value) instead, to perform the operation inplace on the original object.\n",
      "\n",
      "\n",
      "  df['Location'].fillna(L_mode,inplace=True)\n"
     ]
    }
   ],
   "source": [
    "P_mode=df['Payment_Method'].mode()[0]\n",
    "df['Payment_Method'].fillna(P_mode,inplace=True)\n",
    "\n",
    "L_mode=df['Location'].mode()[0]\n",
    "df['Location'].fillna(L_mode,inplace=True)\n",
    "print(df.isnull().sum())\n"
   ]
  },
  {
   "cell_type": "markdown",
   "id": "9ac6b30f",
   "metadata": {},
   "source": [
    "Now we will get the unique values in Item column to try to replace the null values in it"
   ]
  },
  {
   "cell_type": "code",
   "execution_count": null,
   "id": "3595b686",
   "metadata": {},
   "outputs": [],
   "source": [
    "unique_items = df['Item'].unique()\n",
    "unique_prices = df['Price_Per_Unit'].unique()\n",
    "print(unique_items)\n",
    "print(unique_prices)\n",
    "# df[['Item','Price_Per_Unit']].head()\n"
   ]
  },
  {
   "cell_type": "code",
   "execution_count": 34,
   "id": "aa1b821f",
   "metadata": {},
   "outputs": [
    {
     "name": "stdout",
     "output_type": "stream",
     "text": [
      "Transaction_ID    0\n",
      "Item              0\n",
      "Quantity          0\n",
      "Price_Per_Unit    0\n",
      "Total_Spent       0\n",
      "Payment_Method    0\n",
      "Location          0\n",
      "dtype: int64\n"
     ]
    }
   ],
   "source": [
    " #! cause of we have two products with the same price we replaced it with the mode\n",
    "df.loc[df['Price_Per_Unit']==1.0,'Item']='Cookie'\n",
    "df.loc[df['Price_Per_Unit']==1.5,'Item']='Tea'\n",
    "df.loc[df['Price_Per_Unit']==2.0,'Item']='Coffee'\n",
    "df.loc[df['Price_Per_Unit']==3.0,'Item']=df['Item'].mode()[0]\n",
    "df.loc[df['Price_Per_Unit']==4.0,'Item']='Smoothie'\n",
    "df.loc[df['Price_Per_Unit']==5.0,'Item']='Salad'\n",
    "print(df.isna().sum())"
   ]
  },
  {
   "cell_type": "code",
   "execution_count": null,
   "id": "30747133",
   "metadata": {},
   "outputs": [],
   "source": [
    "print(df.isna().sum())"
   ]
  },
  {
   "cell_type": "code",
   "execution_count": null,
   "id": "6d3812d5",
   "metadata": {},
   "outputs": [],
   "source": [
    "df.to_csv('C:/Users/COMPUMARTS/Downloads/data_cleaning/Cafe data cleaning/clean_cafe_sales_saved.csv')\n"
   ]
  },
  {
   "cell_type": "code",
   "execution_count": null,
   "id": "cfb1d634",
   "metadata": {},
   "outputs": [],
   "source": [
    "df.head(20)"
   ]
  },
  {
   "cell_type": "code",
   "execution_count": null,
   "id": "ba944b8c",
   "metadata": {},
   "outputs": [],
   "source": []
  }
 ],
 "metadata": {
  "kernelspec": {
   "display_name": "Python 3",
   "language": "python",
   "name": "python3"
  },
  "language_info": {
   "codemirror_mode": {
    "name": "ipython",
    "version": 3
   },
   "file_extension": ".py",
   "mimetype": "text/x-python",
   "name": "python",
   "nbconvert_exporter": "python",
   "pygments_lexer": "ipython3",
   "version": "3.13.5"
  }
 },
 "nbformat": 4,
 "nbformat_minor": 5
}
