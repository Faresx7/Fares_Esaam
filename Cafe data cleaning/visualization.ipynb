{
 "cells": [
  {
   "cell_type": "code",
   "execution_count": 1,
   "id": "cb64d6a7",
   "metadata": {},
   "outputs": [],
   "source": [
    "import pandas as pd\n",
    "import seaborn as sns\n",
    "import matplotlib.pyplot as plt\n",
    "import warnings\n",
    "warnings.filterwarnings('ignore')"
   ]
  },
  {
   "cell_type": "code",
   "execution_count": 2,
   "id": "502ae7e3",
   "metadata": {},
   "outputs": [
    {
     "data": {
      "text/html": [
       "<div>\n",
       "<style scoped>\n",
       "    .dataframe tbody tr th:only-of-type {\n",
       "        vertical-align: middle;\n",
       "    }\n",
       "\n",
       "    .dataframe tbody tr th {\n",
       "        vertical-align: top;\n",
       "    }\n",
       "\n",
       "    .dataframe thead th {\n",
       "        text-align: right;\n",
       "    }\n",
       "</style>\n",
       "<table border=\"1\" class=\"dataframe\">\n",
       "  <thead>\n",
       "    <tr style=\"text-align: right;\">\n",
       "      <th></th>\n",
       "      <th>Unnamed: 0</th>\n",
       "      <th>Transaction_ID</th>\n",
       "      <th>Item</th>\n",
       "      <th>Quantity</th>\n",
       "      <th>Price_Per_Unit</th>\n",
       "      <th>Total_Spent</th>\n",
       "      <th>Payment_Method</th>\n",
       "      <th>Location</th>\n",
       "    </tr>\n",
       "  </thead>\n",
       "  <tbody>\n",
       "    <tr>\n",
       "      <th>9936</th>\n",
       "      <td>9994</td>\n",
       "      <td>TXN_7851634</td>\n",
       "      <td>Smoothie</td>\n",
       "      <td>4.0</td>\n",
       "      <td>4.0</td>\n",
       "      <td>16.0</td>\n",
       "      <td>Digital Wallet</td>\n",
       "      <td>Takeaway</td>\n",
       "    </tr>\n",
       "    <tr>\n",
       "      <th>9937</th>\n",
       "      <td>9995</td>\n",
       "      <td>TXN_7672686</td>\n",
       "      <td>Coffee</td>\n",
       "      <td>2.0</td>\n",
       "      <td>2.0</td>\n",
       "      <td>4.0</td>\n",
       "      <td>Digital Wallet</td>\n",
       "      <td>Takeaway</td>\n",
       "    </tr>\n",
       "    <tr>\n",
       "      <th>9938</th>\n",
       "      <td>9996</td>\n",
       "      <td>TXN_9659401</td>\n",
       "      <td>Cookie</td>\n",
       "      <td>3.0</td>\n",
       "      <td>1.0</td>\n",
       "      <td>3.0</td>\n",
       "      <td>Digital Wallet</td>\n",
       "      <td>Takeaway</td>\n",
       "    </tr>\n",
       "    <tr>\n",
       "      <th>9939</th>\n",
       "      <td>9997</td>\n",
       "      <td>TXN_5255387</td>\n",
       "      <td>Coffee</td>\n",
       "      <td>4.0</td>\n",
       "      <td>2.0</td>\n",
       "      <td>8.0</td>\n",
       "      <td>Digital Wallet</td>\n",
       "      <td>Takeaway</td>\n",
       "    </tr>\n",
       "    <tr>\n",
       "      <th>9940</th>\n",
       "      <td>9998</td>\n",
       "      <td>TXN_7695629</td>\n",
       "      <td>Cookie</td>\n",
       "      <td>3.0</td>\n",
       "      <td>1.0</td>\n",
       "      <td>3.0</td>\n",
       "      <td>Digital Wallet</td>\n",
       "      <td>Takeaway</td>\n",
       "    </tr>\n",
       "  </tbody>\n",
       "</table>\n",
       "</div>"
      ],
      "text/plain": [
       "      Unnamed: 0 Transaction_ID      Item  Quantity  Price_Per_Unit  \\\n",
       "9936        9994    TXN_7851634  Smoothie       4.0             4.0   \n",
       "9937        9995    TXN_7672686    Coffee       2.0             2.0   \n",
       "9938        9996    TXN_9659401    Cookie       3.0             1.0   \n",
       "9939        9997    TXN_5255387    Coffee       4.0             2.0   \n",
       "9940        9998    TXN_7695629    Cookie       3.0             1.0   \n",
       "\n",
       "      Total_Spent  Payment_Method  Location  \n",
       "9936         16.0  Digital Wallet  Takeaway  \n",
       "9937          4.0  Digital Wallet  Takeaway  \n",
       "9938          3.0  Digital Wallet  Takeaway  \n",
       "9939          8.0  Digital Wallet  Takeaway  \n",
       "9940          3.0  Digital Wallet  Takeaway  "
      ]
     },
     "execution_count": 2,
     "metadata": {},
     "output_type": "execute_result"
    }
   ],
   "source": [
    "path='C:/Users/COMPUMARTS/Downloads/repo/Cafe data cleaning/clean_cafe_sales_saved.csv'\n",
    "df=pd.read_csv(path)\n",
    "df.tail()"
   ]
  },
  {
   "cell_type": "code",
   "execution_count": 3,
   "id": "76d4c798",
   "metadata": {},
   "outputs": [
    {
     "data": {
      "text/plain": [
       "Unnamed: 0          int64\n",
       "Transaction_ID     object\n",
       "Item               object\n",
       "Quantity          float64\n",
       "Price_Per_Unit      int64\n",
       "Total_Spent         int64\n",
       "Payment_Method     object\n",
       "Location           object\n",
       "dtype: object"
      ]
     },
     "execution_count": 3,
     "metadata": {},
     "output_type": "execute_result"
    }
   ],
   "source": [
    "# Convert relevant columns to numeric, coercing errors to NaN\n",
    "# df[['Quantity', 'Price_Per_Unit', 'Total_Spent']] = df[['Quantity', 'Price_Per_Unit', 'Total_Spent']].apply(pd.to_numeric, errors='coerce')\n",
    "df['Price_Per_Unit']=df['Price_Per_Unit'].astype('int')\n",
    "df['Total_Spent']=df['Total_Spent'].astype('int')\n",
    "df.dtypes\n",
    "# num=df.select_dtypes('int')"
   ]
  },
  {
   "cell_type": "code",
   "execution_count": 4,
   "id": "d35c0bcb",
   "metadata": {},
   "outputs": [
    {
     "data": {
      "image/png": "[encoded data removed]",
      "text/plain": [
       "<Figure size 800x100 with 2 Axes>"
      ]
     },
     "metadata": {},
     "output_type": "display_data"
    }
   ],
   "source": [
    "cols=['Price_Per_Unit','Total_Spent']\n",
    "plt.figure(figsize=(8,1))\n",
    "for i , col in enumerate(cols):\n",
    "    plt.subplot(1,2,i+1)\n",
    "    sns.boxenplot(df[col],orient='h')\n",
    "plt.show()\n",
    "#! this happens cause i have a outliers"
   ]
  },
  {
   "cell_type": "code",
   "execution_count": 5,
   "id": "31115a1e",
   "metadata": {},
   "outputs": [
    {
     "data": {
      "image/png": "[encoded data removed]",
      "text/plain": [
       "<Figure size 800x100 with 2 Axes>"
      ]
     },
     "metadata": {},
     "output_type": "display_data"
    }
   ],
   "source": [
    "for i in cols:\n",
    "    Q1=df[i].quantile(0.25)\n",
    "    Q3=df[i].quantile(0.75)\n",
    "    IQR=Q3-Q1\n",
    "    lower_bound=Q1-1.5*IQR\n",
    "    upper_bound=Q3+1.5*IQR\n",
    "    lower_outlier=df[df[i]<lower_bound][i].values\n",
    "    upper_outlier=df[df[i]>upper_bound][i].values\n",
    "    df[i].replace(lower_outlier,lower_bound,inplace=True)\n",
    "    df[i].replace(upper_outlier,upper_bound,inplace=True)\n",
    "\n",
    "plt.figure(figsize=(8,1))\n",
    "for i , col in enumerate(cols):\n",
    "    plt.subplot(1,2,i+1)\n",
    "    sns.boxenplot(df[col],orient='h')\n",
    "plt.show()\n",
    "#! now its normal cause we changed outliers to upper/lower bound values"
   ]
  },
  {
   "cell_type": "code",
   "execution_count": 6,
   "id": "3ee14ea6",
   "metadata": {},
   "outputs": [
    {
     "data": {
      "image/png": "[encoded data removed]",
      "text/plain": [
       "<Figure size 800x200 with 2 Axes>"
      ]
     },
     "metadata": {},
     "output_type": "display_data"
    }
   ],
   "source": [
    "plt.figure(figsize=(8,2))\n",
    "for i , col in enumerate(cols):\n",
    "    plt.subplot(1,2,i+1)\n",
    "    plt.hist(df[col],color='purple',edgecolor='white')\n",
    "    plt.title(col)"
   ]
  },
  {
   "cell_type": "code",
   "execution_count": 7,
   "id": "ebeb1df0",
   "metadata": {},
   "outputs": [
    {
     "data": {
      "text/plain": [
       "Unnamed: 0          int64\n",
       "Transaction_ID     object\n",
       "Item               object\n",
       "Quantity          float64\n",
       "Price_Per_Unit      int64\n",
       "Total_Spent         int64\n",
       "Payment_Method     object\n",
       "Location           object\n",
       "dtype: object"
      ]
     },
     "execution_count": 7,
     "metadata": {},
     "output_type": "execute_result"
    }
   ],
   "source": [
    "df.dtypes"
   ]
  },
  {
   "cell_type": "code",
   "execution_count": 10,
   "id": "3d18d7ef",
   "metadata": {},
   "outputs": [
    {
     "data": {
      "image/png": "[encoded data removed]",
      "text/plain": [
       "<Figure size 640x480 with 1 Axes>"
      ]
     },
     "metadata": {},
     "output_type": "display_data"
    }
   ],
   "source": [
    "cat_cols=['Item','Payment_Method']\n",
    "# print(cat_cols)\n",
    "# for i , col in enumerate(cat_cols):\n",
    "# plt.subplot(1,2,i+1)\n",
    "sns.countplot(x=df[col],hue=df['Item'])\n",
    "plt.title(col)\n",
    "plt.tight_layout()"
   ]
  },
  {
   "cell_type": "code",
   "execution_count": null,
   "id": "bc2e3892",
   "metadata": {},
   "outputs": [],
   "source": []
  }
 ],
 "metadata": {
  "kernelspec": {
   "display_name": "Python 3",
   "language": "python",
   "name": "python3"
  },
  "language_info": {
   "codemirror_mode": {
    "name": "ipython",
    "version": 3
   },
   "file_extension": ".py",
   "mimetype": "text/x-python",
   "name": "python",
   "nbconvert_exporter": "python",
   "pygments_lexer": "ipython3",
   "version": "3.13.5"
  }
 },
 "nbformat": 4,
 "nbformat_minor": 5
}
