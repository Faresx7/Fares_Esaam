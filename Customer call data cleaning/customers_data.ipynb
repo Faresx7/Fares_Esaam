{
 "cells": [
  {
   "cell_type": "markdown",
   "id": "e9c02413",
   "metadata": {},
   "source": [
    "Read file"
   ]
  },
  {
   "cell_type": "code",
   "execution_count": null,
   "id": "ced09ad2",
   "metadata": {},
   "outputs": [],
   "source": [
    "# %pip install openpyxl"
   ]
  },
  {
   "cell_type": "code",
   "execution_count": null,
   "id": "77c4616f",
   "metadata": {},
   "outputs": [],
   "source": [
    "import pandas as pd\n",
    "# import openpyxl\n",
    "\n",
    "path='C:/Users/COMPUMARTS/Downloads/data_cleaning/Customer call data cleaning/Customer Call List.xlsx'\n",
    "df=pd.read_excel(path)\n",
    "pd.DataFrame(df)\n",
    "# print('columns count:',len(df.columns))\n",
    "# print('rows count',len(df))"
   ]
  },
  {
   "cell_type": "markdown",
   "id": "afb516a7",
   "metadata": {},
   "source": [
    "The percent of null values"
   ]
  },
  {
   "cell_type": "code",
   "execution_count": null,
   "id": "986cdf8d",
   "metadata": {},
   "outputs": [],
   "source": [
    "total_cells = df.size\n",
    "null_cells=df.isnull().sum().sum()\n",
    "percentof_null=(null_cells/total_cells)*100\n",
    "print(round(percentof_null,2),'%')"
   ]
  },
  {
   "cell_type": "markdown",
   "id": "6670b8df",
   "metadata": {},
   "source": [
    "First we want to delete all duplicates in table"
   ]
  },
  {
   "cell_type": "code",
   "execution_count": null,
   "id": "276e5af0",
   "metadata": {},
   "outputs": [],
   "source": [
    "df=df.drop_duplicates()"
   ]
  },
  {
   "cell_type": "markdown",
   "id": "09071966",
   "metadata": {},
   "source": [
    "Cleaning Last_Name"
   ]
  },
  {
   "cell_type": "code",
   "execution_count": null,
   "id": "8bd281ab",
   "metadata": {},
   "outputs": [],
   "source": [
    "df['Last_Name']=df['Last_Name'].str.replace(r'[/._]','',regex=True)\n",
    "df.head()"
   ]
  },
  {
   "cell_type": "markdown",
   "id": "ed7af206",
   "metadata": {},
   "source": [
    "Clean the phone numbers "
   ]
  },
  {
   "cell_type": "code",
   "execution_count": null,
   "id": "2c661c3e",
   "metadata": {},
   "outputs": [],
   "source": [
    "#! this will give me the same output\n",
    "\n",
    "df['Phone_Number']=df['Phone_Number'].str.replace(r'\\D','',regex=True)\n",
    "# df['Phone_Number']=df['Phone_Number'].str.replace(r'[^0-9]','',regex=True)\n",
    "df"
   ]
  },
  {
   "cell_type": "markdown",
   "id": "13aeef0c",
   "metadata": {},
   "source": [
    "Formatting the phone number"
   ]
  },
  {
   "cell_type": "code",
   "execution_count": null,
   "id": "523ad656",
   "metadata": {},
   "outputs": [],
   "source": [
    "\n",
    "df['Phone_Number']= df['Phone_Number'].apply(lambda i: i[0:3] + '-' + i[3:6] + '-' + i[6:10] if pd.notnull(i) and len(i) >= 10 else i)"
   ]
  },
  {
   "cell_type": "markdown",
   "id": "51c872ed",
   "metadata": {},
   "source": [
    "Formatting address"
   ]
  },
  {
   "cell_type": "code",
   "execution_count": null,
   "id": "348f226c",
   "metadata": {},
   "outputs": [],
   "source": [
    "df[['street','state','zip code']] = df['Address'].str.split(',', n=2, expand=True)\n",
    "df"
   ]
  },
  {
   "cell_type": "markdown",
   "id": "3f399b45",
   "metadata": {},
   "source": [
    "Standardizing columns values"
   ]
  },
  {
   "cell_type": "code",
   "execution_count": null,
   "id": "6174dfc8",
   "metadata": {},
   "outputs": [],
   "source": [
    "                                                                                                                        #! this mean starting with y and end                                  \n",
    "df[['Do_Not_Contact','Paying Customer']] = df[['Do_Not_Contact','Paying Customer']].apply(lambda col: col.str.replace(r'^Y$', 'Yes', case=False, regex=True))\n",
    "df[['Do_Not_Contact','Paying Customer']] = df[['Do_Not_Contact','Paying Customer']].apply(lambda col: col.str.replace(r'^N$', 'No', case=False, regex=True))\n",
    "df=df.fillna('')\n",
    "df"
   ]
  },
  {
   "cell_type": "markdown",
   "id": "e958daca",
   "metadata": {},
   "source": [
    "Drop all the columns that don't have a phone number to don't want to contact again"
   ]
  },
  {
   "cell_type": "code",
   "execution_count": null,
   "id": "ff6d4308",
   "metadata": {},
   "outputs": [],
   "source": [
    "for i in df.index:\n",
    "    if df.loc[i,'Do_Not_Contact']=='Yes':\n",
    "        df.drop(i,inplace=True)\n",
    "    elif df.loc[i,'Phone_Number']=='':\n",
    "        df.drop(i,inplace=True)\n",
    "df"
   ]
  },
  {
   "cell_type": "code",
   "execution_count": null,
   "id": "c4cdbb58",
   "metadata": {},
   "outputs": [],
   "source": []
  }
 ],
 "metadata": {
  "kernelspec": {
   "display_name": "Python 3",
   "language": "python",
   "name": "python3"
  },
  "language_info": {
   "codemirror_mode": {
    "name": "ipython",
    "version": 3
   },
   "file_extension": ".py",
   "mimetype": "text/x-python",
   "name": "python",
   "nbconvert_exporter": "python",
   "pygments_lexer": "ipython3",
   "version": "3.13.5"
  }
 },
 "nbformat": 4,
 "nbformat_minor": 5
}
